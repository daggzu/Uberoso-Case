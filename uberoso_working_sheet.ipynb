{
 "cells": [
  {
   "cell_type": "code",
   "execution_count": 23,
   "metadata": {},
   "outputs": [
    {
     "name": "stdout",
     "output_type": "stream",
     "text": [
      "C:/Users/Diego/Documents/github/Uberoso-Case/uberoso.csv\n",
      "C:/Users/Diego/Documents/github/Uberoso-Case/season.csv\n",
      "C:/Users/Diego/Documents/github/Uberoso-Case/weather.csv\n",
      "Data columns: Index(['Time Bucket', 'Holiday', 'Working Day', 'Temp (F)',\n",
      "       'Perceived Temp (F)', 'Relative Humidity (%)', 'Wind Speed',\n",
      "       'App Trips', 'Outside App Trips', 'Season ID', 'Weather ID'],\n",
      "      dtype='object')\n",
      "Season columns: Index(['Season ID', 'Season'], dtype='object')\n",
      "Weather columns: Index(['Weather ID', 'Weather'], dtype='object')\n"
     ]
    }
   ],
   "source": [
    "import pandas as pd\n",
    "#i  had issues with the path so i modified how i called the files\n",
    "base_dir = 'C:/Users/Diego/Documents/github/Uberoso-Case'\n",
    "#i know that i had to load the files in different cells but it wouldnt read them for some reason\n",
    "data_path = f'{base_dir}/uberoso.csv'\n",
    "season_path = f'{base_dir}/season.csv'\n",
    "weather_path = f'{base_dir}/weather.csv'\n",
    "#checking if its calling the correct files by printing directory \n",
    "print(data_path)\n",
    "print(season_path)\n",
    "print(weather_path)\n",
    "\n",
    "data = pd.read_csv(data_path)\n",
    "season = pd.read_csv(season_path)\n",
    "weather = pd.read_csv(weather_path)\n",
    "#ensure that it loaded properly\n",
    "print(\"Data columns:\", data.columns)\n",
    "print(\"Season columns:\", season.columns)\n",
    "print(\"Weather columns:\", weather.columns)"
   ]
  },
  {
   "cell_type": "code",
   "execution_count": 24,
   "metadata": {},
   "outputs": [],
   "source": [
    "data = pd.merge(data, season, left_on='Season ID', right_on='Season ID', how='left')\n",
    "data.rename(columns={'Season': 'Season Name'}, inplace=True)\n",
    "#renaming for organization here and variable managment \n",
    "data = pd.merge(data, weather, left_on='Weather ID', right_on='Weather ID', how='left')\n",
    "data.rename(columns={'Weather': 'Weather Description'}, inplace=True)\n"
   ]
  },
  {
   "cell_type": "code",
   "execution_count": 25,
   "metadata": {},
   "outputs": [],
   "source": [
    "data.drop(columns=['Season ID', 'Weather ID'], inplace=True)\n",
    "#here i drop the colums because i dont need them anymore after the merge"
   ]
  },
  {
   "cell_type": "code",
   "execution_count": 26,
   "metadata": {},
   "outputs": [
    {
     "name": "stdout",
     "output_type": "stream",
     "text": [
      "(10886, 11)\n"
     ]
    }
   ],
   "source": [
    "# 7.\tVerify the data shape is (10886, 11)\n",
    "print(data.shape)"
   ]
  },
  {
   "cell_type": "code",
   "execution_count": 27,
   "metadata": {},
   "outputs": [
    {
     "name": "stdout",
     "output_type": "stream",
     "text": [
      "   Holiday  Working Day  Temp (F)  Perceived Temp (F)  Relative Humidity (%)  \\\n",
      "0        0            0    49.712              57.911                     81   \n",
      "1        0            0    48.236              56.543                     80   \n",
      "2        0            0    48.236              56.543                     80   \n",
      "3        0            0    49.712              57.911                     75   \n",
      "4        0            0    49.712              57.911                     75   \n",
      "\n",
      "   Wind Speed  App Trips  Outside App Trips Season Name Weather Description  \\\n",
      "0         0.0          3                 13      Spring               Sunny   \n",
      "1         0.0          8                 32      Spring               Sunny   \n",
      "2         0.0          5                 27      Spring               Sunny   \n",
      "3         0.0          3                 10      Spring               Sunny   \n",
      "4         0.0          0                  1      Spring               Sunny   \n",
      "\n",
      "       Date  Time  \n",
      "0  1/1/2019  0:00  \n",
      "1  1/1/2019  1:00  \n",
      "2  1/1/2019  2:00  \n",
      "3  1/1/2019  3:00  \n",
      "4  1/1/2019  4:00  \n"
     ]
    }
   ],
   "source": [
    "data[['Date', 'Time']] = data['Time Bucket'].str.split(' ', expand=True)\n",
    "\n",
    "data.drop(columns=['Time Bucket'], inplace=True)\n",
    "print(data.head())\n"
   ]
  },
  {
   "cell_type": "code",
   "execution_count": 28,
   "metadata": {},
   "outputs": [],
   "source": [
    "data['Date'] = pd.to_datetime(data['Date'])\n",
    "\n",
    "from datetime import datetime\n",
    "\n",
    "data['Time'] = data['Time'].apply(lambda x: datetime.strptime(x, \"%H:%M\").time())\n",
    "\n"
   ]
  },
  {
   "cell_type": "code",
   "execution_count": 30,
   "metadata": {},
   "outputs": [
    {
     "name": "stdout",
     "output_type": "stream",
     "text": [
      "\n",
      "Data columns and sample data after transformations:\n",
      "Index(['Holiday', 'Working Day', 'Temp (F)', 'Perceived Temp (F)',\n",
      "       'Relative Humidity (%)', 'Wind Speed', 'App Trips', 'Outside App Trips',\n",
      "       'Season Name', 'Weather Description', 'Date', 'Time'],\n",
      "      dtype='object')\n",
      "   Holiday  Working Day  Temp (F)  Perceived Temp (F)  Relative Humidity (%)  \\\n",
      "0        0            0    49.712              57.911                     81   \n",
      "1        0            0    48.236              56.543                     80   \n",
      "2        0            0    48.236              56.543                     80   \n",
      "3        0            0    49.712              57.911                     75   \n",
      "4        0            0    49.712              57.911                     75   \n",
      "\n",
      "   Wind Speed  App Trips  Outside App Trips Season Name Weather Description  \\\n",
      "0         0.0          3                 13      Spring               Sunny   \n",
      "1         0.0          8                 32      Spring               Sunny   \n",
      "2         0.0          5                 27      Spring               Sunny   \n",
      "3         0.0          3                 10      Spring               Sunny   \n",
      "4         0.0          0                  1      Spring               Sunny   \n",
      "\n",
      "        Date      Time  \n",
      "0 2019-01-01  00:00:00  \n",
      "1 2019-01-01  01:00:00  \n",
      "2 2019-01-01  02:00:00  \n",
      "3 2019-01-01  03:00:00  \n",
      "4 2019-01-01  04:00:00  \n"
     ]
    }
   ],
   "source": [
    "# Final verification\n",
    "print(\"\\nData columns and sample data after transformations:\")\n",
    "print(data.columns)\n",
    "print(data.head())\n"
   ]
  },
  {
   "cell_type": "markdown",
   "metadata": {},
   "source": [
    "Questions"
   ]
  },
  {
   "cell_type": "code",
   "execution_count": null,
   "metadata": {},
   "outputs": [],
   "source": [
    "# 1.\tWhat are the two most common Holiday’s season?\n"
   ]
  },
  {
   "cell_type": "code",
   "execution_count": null,
   "metadata": {},
   "outputs": [],
   "source": [
    "# 2.\tWhat is the most common weather during the holiday data points?\n"
   ]
  },
  {
   "cell_type": "code",
   "execution_count": null,
   "metadata": {},
   "outputs": [],
   "source": [
    "# 3.\tHow does the average perceived temperature compares to the average perceived temperature?\n",
    "# Calculate the average perceived temperature\n",
    "\n",
    "\n",
    "# Calculate the average temperature\n",
    "\n",
    "\n",
    "# Compare the average perceived temperature to the average temperature\n",
    "\n"
   ]
  },
  {
   "cell_type": "code",
   "execution_count": null,
   "metadata": {},
   "outputs": [],
   "source": [
    "# 4.\tWere there more trips requested using the app than trips not using the app? How many of each were there?\n"
   ]
  }
 ],
 "metadata": {
  "kernelspec": {
   "display_name": "Python 3 (ipykernel)",
   "language": "python",
   "name": "python3"
  },
  "language_info": {
   "codemirror_mode": {
    "name": "ipython",
    "version": 3
   },
   "file_extension": ".py",
   "mimetype": "text/x-python",
   "name": "python",
   "nbconvert_exporter": "python",
   "pygments_lexer": "ipython3",
   "version": "3.12.2"
  }
 },
 "nbformat": 4,
 "nbformat_minor": 4
}
