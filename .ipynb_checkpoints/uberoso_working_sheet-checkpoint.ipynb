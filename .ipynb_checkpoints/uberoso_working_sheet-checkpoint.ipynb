{
 "cells": [
  {
   "cell_type": "code",
   "execution_count": 1,
   "metadata": {},
   "outputs": [],
   "source": [
    "# 1.\tImport the pandas module as “pd\"\n"
   ]
  },
  {
   "cell_type": "code",
   "execution_count": 2,
   "metadata": {},
   "outputs": [],
   "source": [
    "# 2.\tLoad the uberoso csv file data into the “data” dataframe\n",
    "\n",
    "# 3.\tLoad the season csv file data into the “season” dataframe\n",
    "\n",
    "# 4.\tLoad the weather csv file data into the “weather” dataframe\n",
    "\n"
   ]
  },
  {
   "cell_type": "code",
   "execution_count": 3,
   "metadata": {},
   "outputs": [],
   "source": [
    "# 5.\tMerge the season information into de uberoso data using the season_id column.\n",
    "\n",
    "\n",
    "# 6.\tMerge the weather information into de uberoso data using the weather_id column.\n",
    "\n"
   ]
  },
  {
   "cell_type": "code",
   "execution_count": null,
   "metadata": {},
   "outputs": [],
   "source": [
    "# 7.\tVerify the data shape is (10886, 11)\n"
   ]
  },
  {
   "cell_type": "code",
   "execution_count": 6,
   "metadata": {},
   "outputs": [],
   "source": [
    "# 8.\tSplit the \"Time Bucket\" column into separate “Date” and “Time” columns.\n",
    "\n",
    "# 9.\tRemove the “Time Bucket” column from the uberoso dataset.\n"
   ]
  },
  {
   "cell_type": "code",
   "execution_count": 7,
   "metadata": {},
   "outputs": [],
   "source": [
    "# 10.\tChange the type of the “Date” column to datetime type\n",
    "\n",
    "# 11.\tConvert \"Time\" column to datetime.time objects with a datetime strptime format of \"%H:%M\"\n"
   ]
  },
  {
   "cell_type": "markdown",
   "metadata": {},
   "source": [
    "Questions"
   ]
  },
  {
   "cell_type": "code",
   "execution_count": null,
   "metadata": {},
   "outputs": [],
   "source": [
    "# 1.\tWhat are the two most common Holiday’s season?\n"
   ]
  },
  {
   "cell_type": "code",
   "execution_count": null,
   "metadata": {},
   "outputs": [],
   "source": [
    "# 2.\tWhat is the most common weather during the holiday data points?\n"
   ]
  },
  {
   "cell_type": "code",
   "execution_count": null,
   "metadata": {},
   "outputs": [],
   "source": [
    "# 3.\tHow does the average perceived temperature compares to the average perceived temperature?\n",
    "# Calculate the average perceived temperature\n",
    "\n",
    "\n",
    "# Calculate the average temperature\n",
    "\n",
    "\n",
    "# Compare the average perceived temperature to the average temperature\n",
    "\n"
   ]
  },
  {
   "cell_type": "code",
   "execution_count": null,
   "metadata": {},
   "outputs": [],
   "source": [
    "# 4.\tWere there more trips requested using the app than trips not using the app? How many of each were there?\n"
   ]
  }
 ],
 "metadata": {
  "kernelspec": {
   "display_name": "pap",
   "language": "python",
   "name": "python3"
  },
  "language_info": {
   "codemirror_mode": {
    "name": "ipython",
    "version": 3
   },
   "file_extension": ".py",
   "mimetype": "text/x-python",
   "name": "python",
   "nbconvert_exporter": "python",
   "pygments_lexer": "ipython3",
   "version": "3.10.13"
  }
 },
 "nbformat": 4,
 "nbformat_minor": 2
}
