{
 "cells": [
  {
   "cell_type": "code",
   "execution_count": 65,
   "metadata": {},
   "outputs": [
    {
     "name": "stdout",
     "output_type": "stream",
     "text": [
      "C:/Users/Diego/Documents/github/Uberoso-Case/uberoso.csv\n",
      "C:/Users/Diego/Documents/github/Uberoso-Case/season.csv\n",
      "C:/Users/Diego/Documents/github/Uberoso-Case/weather.csv\n",
      "Data columns: Index(['Time Bucket', 'Holiday', 'Working Day', 'Temp (F)',\n",
      "       'Perceived Temp (F)', 'Relative Humidity (%)', 'Wind Speed',\n",
      "       'App Trips', 'Outside App Trips', 'Season ID', 'Weather ID'],\n",
      "      dtype='object')\n",
      "Season columns: Index(['Season ID', 'Season'], dtype='object')\n",
      "Weather columns: Index(['Weather ID', 'Weather'], dtype='object')\n"
     ]
    }
   ],
   "source": [
    "import pandas as pd\n",
    "#i  had issues with the path so i modified how i called the files\n",
    "base_dir = 'C:/Users/Diego/Documents/github/Uberoso-Case'\n",
    "#i know that i had to load the files in different cells but it wouldnt read them for some reason\n",
    "data_path = f'{base_dir}/uberoso.csv'\n",
    "season_path = f'{base_dir}/season.csv'\n",
    "weather_path = f'{base_dir}/weather.csv'\n",
    "#checking if its calling the correct files by printing directory \n",
    "print(data_path)\n",
    "print(season_path)\n",
    "print(weather_path)\n",
    "\n",
    "data = pd.read_csv(data_path)\n",
    "season = pd.read_csv(season_path)\n",
    "weather = pd.read_csv(weather_path)\n",
    "#ensure that it loaded properly\n",
    "print(\"Data columns:\", data.columns)\n",
    "print(\"Season columns:\", season.columns)\n",
    "print(\"Weather columns:\", weather.columns)"
   ]
  },
  {
   "cell_type": "code",
   "execution_count": 66,
   "metadata": {},
   "outputs": [
    {
     "name": "stdout",
     "output_type": "stream",
     "text": [
      "            Holiday   Working Day      Temp (F)  Perceived Temp (F)  \\\n",
      "count  10886.000000  10886.000000  10886.000000        10886.000000   \n",
      "mean       0.028569      0.680875     68.415548           74.579151   \n",
      "std        0.166599      0.466159     14.024862           15.254281   \n",
      "min        0.000000      0.000000     33.476000           33.368000   \n",
      "25%        0.000000      0.000000     57.092000           61.997000   \n",
      "50%        0.000000      1.000000     68.900000           75.632000   \n",
      "75%        0.000000      1.000000     79.232000           87.908000   \n",
      "max        1.000000      1.000000    105.800000          113.819000   \n",
      "\n",
      "       Relative Humidity (%)    Wind Speed     App Trips  Outside App Trips  \\\n",
      "count           10886.000000  10886.000000  10886.000000       10886.000000   \n",
      "mean               61.886460     12.799395     36.021955         155.552177   \n",
      "std                19.245033      8.164537     49.960477         151.039033   \n",
      "min                 0.000000      0.000000      0.000000           0.000000   \n",
      "25%                47.000000      7.001500      4.000000          36.000000   \n",
      "50%                62.000000     12.998000     17.000000         118.000000   \n",
      "75%                77.000000     16.997900     49.000000         222.000000   \n",
      "max               100.000000     56.996900    367.000000         886.000000   \n",
      "\n",
      "          Season ID    Weather ID  \n",
      "count  10886.000000  10886.000000  \n",
      "mean       1.502297      2.139904  \n",
      "std        1.120053      1.297180  \n",
      "min        0.000000      0.000000  \n",
      "25%        0.000000      0.000000  \n",
      "50%        2.000000      3.000000  \n",
      "75%        3.000000      3.000000  \n",
      "max        3.000000      3.000000  \n"
     ]
    }
   ],
   "source": [
    "# (ignore this cell im simply trying to visualize and understand the distribution and relationships within the data.\n",
    "print(data.describe())\n"
   ]
  },
  {
   "cell_type": "code",
   "execution_count": 54,
   "metadata": {},
   "outputs": [
    {
     "name": "stdout",
     "output_type": "stream",
     "text": [
      "\n",
      "Merged data columns:\n",
      "Index(['Time Bucket', 'Holiday', 'Working Day', 'Temp (F)',\n",
      "       'Perceived Temp (F)', 'Relative Humidity (%)', 'Wind Speed',\n",
      "       'App Trips', 'Outside App Trips', 'Season ID', 'Weather ID',\n",
      "       'Season Name', 'Weather Description'],\n",
      "      dtype='object')\n",
      "     Time Bucket  Holiday  Working Day  Temp (F)  Perceived Temp (F)  \\\n",
      "0  1/1/2019 0:00        0            0    49.712              57.911   \n",
      "1  1/1/2019 1:00        0            0    48.236              56.543   \n",
      "2  1/1/2019 2:00        0            0    48.236              56.543   \n",
      "3  1/1/2019 3:00        0            0    49.712              57.911   \n",
      "4  1/1/2019 4:00        0            0    49.712              57.911   \n",
      "\n",
      "   Relative Humidity (%)  Wind Speed  App Trips  Outside App Trips  Season ID  \\\n",
      "0                     81         0.0          3                 13          1   \n",
      "1                     80         0.0          8                 32          1   \n",
      "2                     80         0.0          5                 27          1   \n",
      "3                     75         0.0          3                 10          1   \n",
      "4                     75         0.0          0                  1          1   \n",
      "\n",
      "   Weather ID Season Name Weather Description  \n",
      "0           3      Spring               Sunny  \n",
      "1           3      Spring               Sunny  \n",
      "2           3      Spring               Sunny  \n",
      "3           3      Spring               Sunny  \n",
      "4           3      Spring               Sunny  \n"
     ]
    }
   ],
   "source": [
    "data = pd.merge(data, season, left_on='Season ID', right_on='Season ID', how='left')\n",
    "data.rename(columns={'Season': 'Season Name'}, inplace=True)\n",
    "#renaming for organization here and variable managment \n",
    "data = pd.merge(data, weather, left_on='Weather ID', right_on='Weather ID', how='left')\n",
    "data.rename(columns={'Weather': 'Weather Description'}, inplace=True)\n",
    "# here i print the merged data to verify the merges\n",
    "print(\"\\nMerged data columns:\")\n",
    "print(data.columns)\n",
    "print(data.head())\n"
   ]
  },
  {
   "cell_type": "code",
   "execution_count": 55,
   "metadata": {},
   "outputs": [],
   "source": [
    "data.drop(columns=['Season ID', 'Weather ID'], inplace=True)\n",
    "#here i drop the colums because i dont need them anymore after the merge"
   ]
  },
  {
   "cell_type": "code",
   "execution_count": 56,
   "metadata": {},
   "outputs": [
    {
     "name": "stdout",
     "output_type": "stream",
     "text": [
      "(10886, 11)\n"
     ]
    }
   ],
   "source": [
    "# 7.\tVerify the data shape is (10886, 11)\n",
    "print(data.shape)"
   ]
  },
  {
   "cell_type": "code",
   "execution_count": 57,
   "metadata": {},
   "outputs": [
    {
     "name": "stdout",
     "output_type": "stream",
     "text": [
      "   Holiday  Working Day  Temp (F)  Perceived Temp (F)  Relative Humidity (%)  \\\n",
      "0        0            0    49.712              57.911                     81   \n",
      "1        0            0    48.236              56.543                     80   \n",
      "2        0            0    48.236              56.543                     80   \n",
      "3        0            0    49.712              57.911                     75   \n",
      "4        0            0    49.712              57.911                     75   \n",
      "\n",
      "   Wind Speed  App Trips  Outside App Trips Season Name Weather Description  \\\n",
      "0         0.0          3                 13      Spring               Sunny   \n",
      "1         0.0          8                 32      Spring               Sunny   \n",
      "2         0.0          5                 27      Spring               Sunny   \n",
      "3         0.0          3                 10      Spring               Sunny   \n",
      "4         0.0          0                  1      Spring               Sunny   \n",
      "\n",
      "       Date  Time  \n",
      "0  1/1/2019  0:00  \n",
      "1  1/1/2019  1:00  \n",
      "2  1/1/2019  2:00  \n",
      "3  1/1/2019  3:00  \n",
      "4  1/1/2019  4:00  \n"
     ]
    }
   ],
   "source": [
    "data[['Date', 'Time']] = data['Time Bucket'].str.split(' ', expand=True)\n",
    "\n",
    "data.drop(columns=['Time Bucket'], inplace=True)\n",
    "print(data.head())\n"
   ]
  },
  {
   "cell_type": "code",
   "execution_count": 58,
   "metadata": {},
   "outputs": [],
   "source": [
    "data['Date'] = pd.to_datetime(data['Date'])\n",
    "\n",
    "from datetime import datetime\n",
    "\n",
    "data['Time'] = data['Time'].apply(lambda x: datetime.strptime(x, \"%H:%M\").time())\n",
    "\n"
   ]
  },
  {
   "cell_type": "code",
   "execution_count": 59,
   "metadata": {},
   "outputs": [
    {
     "name": "stdout",
     "output_type": "stream",
     "text": [
      "\n",
      "Data columns and sample data after transformations:\n",
      "Index(['Holiday', 'Working Day', 'Temp (F)', 'Perceived Temp (F)',\n",
      "       'Relative Humidity (%)', 'Wind Speed', 'App Trips', 'Outside App Trips',\n",
      "       'Season Name', 'Weather Description', 'Date', 'Time'],\n",
      "      dtype='object')\n",
      "   Holiday  Working Day  Temp (F)  Perceived Temp (F)  Relative Humidity (%)  \\\n",
      "0        0            0    49.712              57.911                     81   \n",
      "1        0            0    48.236              56.543                     80   \n",
      "2        0            0    48.236              56.543                     80   \n",
      "3        0            0    49.712              57.911                     75   \n",
      "4        0            0    49.712              57.911                     75   \n",
      "\n",
      "   Wind Speed  App Trips  Outside App Trips Season Name Weather Description  \\\n",
      "0         0.0          3                 13      Spring               Sunny   \n",
      "1         0.0          8                 32      Spring               Sunny   \n",
      "2         0.0          5                 27      Spring               Sunny   \n",
      "3         0.0          3                 10      Spring               Sunny   \n",
      "4         0.0          0                  1      Spring               Sunny   \n",
      "\n",
      "        Date      Time  \n",
      "0 2019-01-01  00:00:00  \n",
      "1 2019-01-01  01:00:00  \n",
      "2 2019-01-01  02:00:00  \n",
      "3 2019-01-01  03:00:00  \n",
      "4 2019-01-01  04:00:00  \n"
     ]
    }
   ],
   "source": [
    "# Final verification to check if time change worked\n",
    "print(\"\\nData columns and sample data after transformations:\")\n",
    "print(data.columns)\n",
    "print(data.head())\n"
   ]
  },
  {
   "cell_type": "markdown",
   "metadata": {},
   "source": [
    "Questions"
   ]
  },
  {
   "cell_type": "code",
   "execution_count": 60,
   "metadata": {},
   "outputs": [
    {
     "name": "stdout",
     "output_type": "stream",
     "text": [
      "Two most common holiday seasons:\n",
      "Season Name\n",
      "Fall      96\n",
      "Winter    96\n",
      "Name: count, dtype: int64\n"
     ]
    }
   ],
   "source": [
    "# first i need to filter the data for specificaly holiday entries\n",
    "holiday_data = data[data['Holiday'] == 1]\n",
    "\n",
    "# then i count the occurences of each season in a holiday \n",
    "holiday_season_counts = holiday_data['Season Name'].value_counts()\n",
    "\n",
    "# this prints and gets the two most common \n",
    "most_common_holiday_seasons = holiday_season_counts.head(2)\n",
    "print(\"Two most common holiday seasons:\")\n",
    "print(most_common_holiday_seasons)\n",
    "\n"
   ]
  },
  {
   "cell_type": "code",
   "execution_count": 61,
   "metadata": {},
   "outputs": [
    {
     "name": "stdout",
     "output_type": "stream",
     "text": [
      "\n",
      "Most common weather during holidays:\n",
      "Sunny\n",
      "so go outside ladies and gentlmen:D\n"
     ]
    }
   ],
   "source": [
    "#counting occurences\n",
    "holiday_weather_counts = holiday_data['Weather Description'].value_counts()\n",
    "\n",
    "#getting most common weather \n",
    "most_common_holiday_weather = holiday_weather_counts.idxmax()\n",
    "print(\"\\nMost common weather during holidays:\")\n",
    "print(most_common_holiday_weather)\n",
    "print(\"so go outside ladies and gentlmen:D\")\n",
    "\n"
   ]
  },
  {
   "cell_type": "code",
   "execution_count": 62,
   "metadata": {},
   "outputs": [
    {
     "name": "stdout",
     "output_type": "stream",
     "text": [
      "Average Perceived Temperature: 74.57915129524159\n",
      "Average Actual Temperature: 68.41554767591401\n",
      "\n",
      "Comparison of Average Temperatures:\n",
      "Average Perceived Temperature: 74.58 F\n",
      "Average Actual Temperature: 68.42 F\n",
      "The average perceived temperature is higher than the average actual temperature.\n"
     ]
    }
   ],
   "source": [
    "# calculating the average perceived temperature using mean \n",
    "average_perceived_temp = data['Perceived Temp (F)'].mean()\n",
    "print(\"Average Perceived Temperature:\", average_perceived_temp)\n",
    "\n",
    "# calculating the average temperature\n",
    "average_temp = data['Temp (F)'].mean()\n",
    "print(\"Average Actual Temperature:\", average_temp)\n",
    "\n",
    "# Compare the average perceived temperature to the average temperature\n",
    "# this was a bit tricky but i decided u guys probably wnated an ifelse statement for python to let you know instead of me printing it directly \n",
    "print(\"\\nComparison of Average Temperatures:\")\n",
    "print(f\"Average Perceived Temperature: {average_perceived_temp:.2f} F\")\n",
    "print(f\"Average Actual Temperature: {average_temp:.2f} F\")\n",
    "\n",
    "if average_perceived_temp > average_temp:\n",
    "    print(\"The average perceived temperature is higher than the average actual temperature.\")\n",
    "elif average_perceived_temp < average_temp:\n",
    "    print(\"The average perceived temperature is lower than the average actual temperature.\")\n",
    "else:\n",
    "    print(\"The average perceived temperature is equal to the average actual temperature.\")\n",
    "\n"
   ]
  },
  {
   "cell_type": "code",
   "execution_count": 63,
   "metadata": {},
   "outputs": [
    {
     "name": "stdout",
     "output_type": "stream",
     "text": [
      "Total number of trips requested using the app: 392135\n",
      "Total number of trips requested outside the app: 1693341\n",
      "There were more trips requested outside the app.\n"
     ]
    }
   ],
   "source": [
    "#this is with the app \n",
    "total_app_trips = data['App Trips'].sum()\n",
    "print(\"Total number of trips requested using the app:\", total_app_trips)\n",
    "#this is without the app\n",
    "total_not_app_trips = data['Outside App Trips'].sum()\n",
    "print(\"Total number of trips requested outside the app:\", total_outside_app_trips)\n",
    "\n",
    "#the comparison using another ifelse statement\n",
    "if total_app_trips > total_not_app_trips:\n",
    "    print(\"There were more trips requested using the app.\")\n",
    "elif total_app_trips < total_not_app_trips:\n",
    "    print(\"There were more trips requested outside the app.\")\n",
    "else:\n",
    "    print(\"The number of trips requested using the app is equal to the number of trips requested outside the app.\")\n"
   ]
  },
  {
   "cell_type": "code",
   "execution_count": 64,
   "metadata": {},
   "outputs": [
    {
     "name": "stdout",
     "output_type": "stream",
     "text": [
      "Have a great day!\n"
     ]
    }
   ],
   "source": [
    "#Thank you so much for your time! this was very fun \n",
    "print(\"Have a great day!\")"
   ]
  }
 ],
 "metadata": {
  "kernelspec": {
   "display_name": "Python 3 (ipykernel)",
   "language": "python",
   "name": "python3"
  },
  "language_info": {
   "codemirror_mode": {
    "name": "ipython",
    "version": 3
   },
   "file_extension": ".py",
   "mimetype": "text/x-python",
   "name": "python",
   "nbconvert_exporter": "python",
   "pygments_lexer": "ipython3",
   "version": "3.12.2"
  }
 },
 "nbformat": 4,
 "nbformat_minor": 4
}
